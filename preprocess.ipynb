{
 "cells": [
  {
   "cell_type": "code",
   "execution_count": 27,
   "metadata": {},
   "outputs": [
    {
     "name": "stdout",
     "output_type": "stream",
     "text": [
      "Python 3.6.10 :: Anaconda, Inc.\n",
      "Requirement already satisfied: joblib in /home/ec2-user/anaconda3/envs/python3/lib/python3.6/site-packages (0.14.1)\n",
      "\u001b[33mWARNING: You are using pip version 20.3.3; however, version 21.0.1 is available.\n",
      "You should consider upgrading via the '/home/ec2-user/anaconda3/envs/python3/bin/python -m pip install --upgrade pip' command.\u001b[0m\n"
     ]
    }
   ],
   "source": [
    "!python -V\n",
    "!pip install joblib"
   ]
  },
  {
   "cell_type": "code",
   "execution_count": 2,
   "metadata": {},
   "outputs": [],
   "source": [
    "import pandas as pd\n",
    "import numpy as np"
   ]
  },
  {
   "cell_type": "code",
   "execution_count": 3,
   "metadata": {},
   "outputs": [],
   "source": [
    "raw = pd.read_excel(\"data_nhakhoa.xlsx\", index_col=0)"
   ]
  },
  {
   "cell_type": "code",
   "execution_count": 4,
   "metadata": {},
   "outputs": [
    {
     "data": {
      "text/html": [
       "<div>\n",
       "<style scoped>\n",
       "    .dataframe tbody tr th:only-of-type {\n",
       "        vertical-align: middle;\n",
       "    }\n",
       "\n",
       "    .dataframe tbody tr th {\n",
       "        vertical-align: top;\n",
       "    }\n",
       "\n",
       "    .dataframe thead th {\n",
       "        text-align: right;\n",
       "    }\n",
       "</style>\n",
       "<table border=\"1\" class=\"dataframe\">\n",
       "  <thead>\n",
       "    <tr style=\"text-align: right;\">\n",
       "      <th></th>\n",
       "      <th>Sentence</th>\n",
       "      <th>Label</th>\n",
       "    </tr>\n",
       "  </thead>\n",
       "  <tbody>\n",
       "    <tr>\n",
       "      <th>0</th>\n",
       "      <td>lan anh nếu như nói răng có thể bị lợi nó bò v...</td>\n",
       "      <td>True</td>\n",
       "    </tr>\n",
       "    <tr>\n",
       "      <th>1</th>\n",
       "      <td>hưng hưng nguyễn hay sâu răng hem</td>\n",
       "      <td>True</td>\n",
       "    </tr>\n",
       "    <tr>\n",
       "      <th>2</th>\n",
       "      <td>có ai 20 tuổi mà phải bọc 8 cái răng sứ như mì...</td>\n",
       "      <td>True</td>\n",
       "    </tr>\n",
       "    <tr>\n",
       "      <th>3</th>\n",
       "      <td>kieu le định mua dán trắng răng ủng hộ mà thật...</td>\n",
       "      <td>True</td>\n",
       "    </tr>\n",
       "    <tr>\n",
       "      <th>4</th>\n",
       "      <td>re chuyên trị sâu răng ê buốt viêm lợi tụt lợi...</td>\n",
       "      <td>True</td>\n",
       "    </tr>\n",
       "    <tr>\n",
       "      <th>...</th>\n",
       "      <td>...</td>\n",
       "      <td>...</td>\n",
       "    </tr>\n",
       "    <tr>\n",
       "      <th>86070</th>\n",
       "      <td>có thuốc răng miệng thanh mộc hương không phải...</td>\n",
       "      <td>-</td>\n",
       "    </tr>\n",
       "    <tr>\n",
       "      <th>86071</th>\n",
       "      <td>thoát khỏi răng_vàng hôi_miệng một lần mãi mãi...</td>\n",
       "      <td>-</td>\n",
       "    </tr>\n",
       "    <tr>\n",
       "      <th>86072</th>\n",
       "      <td>tuỷ răng là gì tuỷ răng là cấu trúc gồm mạch m...</td>\n",
       "      <td>-</td>\n",
       "    </tr>\n",
       "    <tr>\n",
       "      <th>86073</th>\n",
       "      <td>các vấn đề nhức nhối của răng miệng răng ố vàn...</td>\n",
       "      <td>-</td>\n",
       "    </tr>\n",
       "    <tr>\n",
       "      <th>86074</th>\n",
       "      <td>vecni fluor chống sâu răng hiệu quả nhất cho t...</td>\n",
       "      <td>-</td>\n",
       "    </tr>\n",
       "  </tbody>\n",
       "</table>\n",
       "<p>86075 rows × 2 columns</p>\n",
       "</div>"
      ],
      "text/plain": [
       "                                                Sentence Label\n",
       "0      lan anh nếu như nói răng có thể bị lợi nó bò v...  True\n",
       "1                      hưng hưng nguyễn hay sâu răng hem  True\n",
       "2      có ai 20 tuổi mà phải bọc 8 cái răng sứ như mì...  True\n",
       "3      kieu le định mua dán trắng răng ủng hộ mà thật...  True\n",
       "4      re chuyên trị sâu răng ê buốt viêm lợi tụt lợi...  True\n",
       "...                                                  ...   ...\n",
       "86070  có thuốc răng miệng thanh mộc hương không phải...     -\n",
       "86071  thoát khỏi răng_vàng hôi_miệng một lần mãi mãi...     -\n",
       "86072  tuỷ răng là gì tuỷ răng là cấu trúc gồm mạch m...     -\n",
       "86073  các vấn đề nhức nhối của răng miệng răng ố vàn...     -\n",
       "86074  vecni fluor chống sâu răng hiệu quả nhất cho t...     -\n",
       "\n",
       "[86075 rows x 2 columns]"
      ]
     },
     "execution_count": 4,
     "metadata": {},
     "output_type": "execute_result"
    }
   ],
   "source": [
    "raw.drop(\"Prediction\", axis=1)"
   ]
  },
  {
   "cell_type": "code",
   "execution_count": 5,
   "metadata": {},
   "outputs": [],
   "source": [
    "raw[\"New Sentence\"] = raw[\"Sentence\"].map(lambda x: str(x).replace(\"_\", \" \"))"
   ]
  },
  {
   "cell_type": "code",
   "execution_count": 6,
   "metadata": {},
   "outputs": [],
   "source": [
    "raw[\"Len\"] = raw[\"New Sentence\"].map(lambda x: len(x.split(\" \")))"
   ]
  },
  {
   "cell_type": "code",
   "execution_count": 7,
   "metadata": {},
   "outputs": [],
   "source": [
    "filtered_spam = raw[raw[\"Len\"] >= 2]"
   ]
  },
  {
   "cell_type": "code",
   "execution_count": 8,
   "metadata": {},
   "outputs": [
    {
     "data": {
      "text/html": [
       "<div>\n",
       "<style scoped>\n",
       "    .dataframe tbody tr th:only-of-type {\n",
       "        vertical-align: middle;\n",
       "    }\n",
       "\n",
       "    .dataframe tbody tr th {\n",
       "        vertical-align: top;\n",
       "    }\n",
       "\n",
       "    .dataframe thead th {\n",
       "        text-align: right;\n",
       "    }\n",
       "</style>\n",
       "<table border=\"1\" class=\"dataframe\">\n",
       "  <thead>\n",
       "    <tr style=\"text-align: right;\">\n",
       "      <th></th>\n",
       "      <th>Sentence</th>\n",
       "      <th>Label</th>\n",
       "      <th>Prediction</th>\n",
       "      <th>New Sentence</th>\n",
       "      <th>Len</th>\n",
       "    </tr>\n",
       "  </thead>\n",
       "  <tbody>\n",
       "    <tr>\n",
       "      <th>0</th>\n",
       "      <td>lan anh nếu như nói răng có thể bị lợi nó bò v...</td>\n",
       "      <td>True</td>\n",
       "      <td>-</td>\n",
       "      <td>lan anh nếu như nói răng có thể bị lợi nó bò v...</td>\n",
       "      <td>49</td>\n",
       "    </tr>\n",
       "    <tr>\n",
       "      <th>1</th>\n",
       "      <td>hưng hưng nguyễn hay sâu răng hem</td>\n",
       "      <td>True</td>\n",
       "      <td>-</td>\n",
       "      <td>hưng hưng nguyễn hay sâu răng hem</td>\n",
       "      <td>7</td>\n",
       "    </tr>\n",
       "    <tr>\n",
       "      <th>2</th>\n",
       "      <td>có ai 20 tuổi mà phải bọc 8 cái răng sứ như mì...</td>\n",
       "      <td>True</td>\n",
       "      <td>-</td>\n",
       "      <td>có ai 20 tuổi mà phải bọc 8 cái răng sứ như mì...</td>\n",
       "      <td>15</td>\n",
       "    </tr>\n",
       "    <tr>\n",
       "      <th>3</th>\n",
       "      <td>kieu le định mua dán trắng răng ủng hộ mà thật...</td>\n",
       "      <td>True</td>\n",
       "      <td>-</td>\n",
       "      <td>kieu le định mua dán trắng răng ủng hộ mà thật...</td>\n",
       "      <td>19</td>\n",
       "    </tr>\n",
       "    <tr>\n",
       "      <th>4</th>\n",
       "      <td>re chuyên trị sâu răng ê buốt viêm lợi tụt lợi...</td>\n",
       "      <td>True</td>\n",
       "      <td>-</td>\n",
       "      <td>re chuyên trị sâu răng ê buốt viêm lợi tụt lợi...</td>\n",
       "      <td>18</td>\n",
       "    </tr>\n",
       "    <tr>\n",
       "      <th>...</th>\n",
       "      <td>...</td>\n",
       "      <td>...</td>\n",
       "      <td>...</td>\n",
       "      <td>...</td>\n",
       "      <td>...</td>\n",
       "    </tr>\n",
       "    <tr>\n",
       "      <th>86070</th>\n",
       "      <td>có thuốc răng miệng thanh mộc hương không phải...</td>\n",
       "      <td>-</td>\n",
       "      <td>True</td>\n",
       "      <td>có thuốc răng miệng thanh mộc hương không phải...</td>\n",
       "      <td>93</td>\n",
       "    </tr>\n",
       "    <tr>\n",
       "      <th>86071</th>\n",
       "      <td>thoát khỏi răng_vàng hôi_miệng một lần mãi mãi...</td>\n",
       "      <td>-</td>\n",
       "      <td>True</td>\n",
       "      <td>thoát khỏi răng vàng hôi miệng một lần mãi mãi...</td>\n",
       "      <td>124</td>\n",
       "    </tr>\n",
       "    <tr>\n",
       "      <th>86072</th>\n",
       "      <td>tuỷ răng là gì tuỷ răng là cấu trúc gồm mạch m...</td>\n",
       "      <td>-</td>\n",
       "      <td>True</td>\n",
       "      <td>tuỷ răng là gì tuỷ răng là cấu trúc gồm mạch m...</td>\n",
       "      <td>167</td>\n",
       "    </tr>\n",
       "    <tr>\n",
       "      <th>86073</th>\n",
       "      <td>các vấn đề nhức nhối của răng miệng răng ố vàn...</td>\n",
       "      <td>-</td>\n",
       "      <td>True</td>\n",
       "      <td>các vấn đề nhức nhối của răng miệng răng ố vàn...</td>\n",
       "      <td>162</td>\n",
       "    </tr>\n",
       "    <tr>\n",
       "      <th>86074</th>\n",
       "      <td>vecni fluor chống sâu răng hiệu quả nhất cho t...</td>\n",
       "      <td>-</td>\n",
       "      <td>True</td>\n",
       "      <td>vecni fluor chống sâu răng hiệu quả nhất cho t...</td>\n",
       "      <td>20</td>\n",
       "    </tr>\n",
       "  </tbody>\n",
       "</table>\n",
       "<p>84864 rows × 5 columns</p>\n",
       "</div>"
      ],
      "text/plain": [
       "                                                Sentence Label Prediction  \\\n",
       "0      lan anh nếu như nói răng có thể bị lợi nó bò v...  True          -   \n",
       "1                      hưng hưng nguyễn hay sâu răng hem  True          -   \n",
       "2      có ai 20 tuổi mà phải bọc 8 cái răng sứ như mì...  True          -   \n",
       "3      kieu le định mua dán trắng răng ủng hộ mà thật...  True          -   \n",
       "4      re chuyên trị sâu răng ê buốt viêm lợi tụt lợi...  True          -   \n",
       "...                                                  ...   ...        ...   \n",
       "86070  có thuốc răng miệng thanh mộc hương không phải...     -       True   \n",
       "86071  thoát khỏi răng_vàng hôi_miệng một lần mãi mãi...     -       True   \n",
       "86072  tuỷ răng là gì tuỷ răng là cấu trúc gồm mạch m...     -       True   \n",
       "86073  các vấn đề nhức nhối của răng miệng răng ố vàn...     -       True   \n",
       "86074  vecni fluor chống sâu răng hiệu quả nhất cho t...     -       True   \n",
       "\n",
       "                                            New Sentence  Len  \n",
       "0      lan anh nếu như nói răng có thể bị lợi nó bò v...   49  \n",
       "1                      hưng hưng nguyễn hay sâu răng hem    7  \n",
       "2      có ai 20 tuổi mà phải bọc 8 cái răng sứ như mì...   15  \n",
       "3      kieu le định mua dán trắng răng ủng hộ mà thật...   19  \n",
       "4      re chuyên trị sâu răng ê buốt viêm lợi tụt lợi...   18  \n",
       "...                                                  ...  ...  \n",
       "86070  có thuốc răng miệng thanh mộc hương không phải...   93  \n",
       "86071  thoát khỏi răng vàng hôi miệng một lần mãi mãi...  124  \n",
       "86072  tuỷ răng là gì tuỷ răng là cấu trúc gồm mạch m...  167  \n",
       "86073  các vấn đề nhức nhối của răng miệng răng ố vàn...  162  \n",
       "86074  vecni fluor chống sâu răng hiệu quả nhất cho t...   20  \n",
       "\n",
       "[84864 rows x 5 columns]"
      ]
     },
     "execution_count": 8,
     "metadata": {},
     "output_type": "execute_result"
    }
   ],
   "source": [
    "filtered_spam"
   ]
  },
  {
   "cell_type": "code",
   "execution_count": 9,
   "metadata": {},
   "outputs": [
    {
     "data": {
      "text/plain": [
       "array([[<matplotlib.axes._subplots.AxesSubplot object at 0x7fd862b3b160>]],\n",
       "      dtype=object)"
      ]
     },
     "execution_count": 9,
     "metadata": {},
     "output_type": "execute_result"
    },
    {
     "data": {
      "image/png": "[encoded data removed]",
      "text/plain": [
       "<Figure size 432x288 with 1 Axes>"
      ]
     },
     "metadata": {
      "needs_background": "light"
     },
     "output_type": "display_data"
    }
   ],
   "source": [
    "filtered_spam.hist(\"Len\")"
   ]
  },
  {
   "cell_type": "code",
   "execution_count": 10,
   "metadata": {},
   "outputs": [],
   "source": [
    "from sklearn.feature_extraction.text import TfidfVectorizer"
   ]
  },
  {
   "cell_type": "code",
   "execution_count": 11,
   "metadata": {},
   "outputs": [],
   "source": [
    "loaded = np.load(\"data_banhang.npz\")\n",
    "data_banhang = loaded['a']\n",
    "data_banhang_labels = [False] * len(data_banhang)"
   ]
  },
  {
   "cell_type": "code",
   "execution_count": 20,
   "metadata": {},
   "outputs": [],
   "source": [
    "labeled = filtered_spam[filtered_spam[\"Label\"] != '-']"
   ]
  },
  {
   "cell_type": "code",
   "execution_count": 21,
   "metadata": {},
   "outputs": [],
   "source": [
    "# mentions = np.concatenate((labeled[\"New Sentence\"].to_numpy(), data_banhang))\n",
    "mentions = labeled[\"New Sentence\"].to_numpy()"
   ]
  },
  {
   "cell_type": "code",
   "execution_count": 22,
   "metadata": {},
   "outputs": [
    {
     "data": {
      "text/plain": [
       "(673,)"
      ]
     },
     "execution_count": 22,
     "metadata": {},
     "output_type": "execute_result"
    }
   ],
   "source": [
    "mentions.shape"
   ]
  },
  {
   "cell_type": "code",
   "execution_count": 23,
   "metadata": {},
   "outputs": [],
   "source": [
    "# labels = np.concatenate((labeled[\"Label\"].map(lambda x: x == True).to_numpy(), data_banhang_labels))\n",
    "labels = labeled[\"Label\"].map(lambda x: x == True).to_numpy()"
   ]
  },
  {
   "cell_type": "code",
   "execution_count": 24,
   "metadata": {},
   "outputs": [
    {
     "data": {
      "text/plain": [
       "(673,)"
      ]
     },
     "execution_count": 24,
     "metadata": {},
     "output_type": "execute_result"
    }
   ],
   "source": [
    "labels.shape"
   ]
  },
  {
   "cell_type": "code",
   "execution_count": 28,
   "metadata": {},
   "outputs": [],
   "source": [
    "from sklearn import svm\n",
    "from sklearn.pipeline import make_pipeline\n",
    "from sklearn.preprocessing import StandardScaler\n",
    "from sklearn.model_selection import cross_val_score\n",
    "import joblib"
   ]
  },
  {
   "cell_type": "code",
   "execution_count": 29,
   "metadata": {},
   "outputs": [],
   "source": [
    "clf = make_pipeline(TfidfVectorizer(), StandardScaler(with_mean=False), svm.SVC())"
   ]
  },
  {
   "cell_type": "code",
   "execution_count": 30,
   "metadata": {
    "scrolled": true
   },
   "outputs": [],
   "source": [
    "cv_score = np.mean(cross_val_score(clf, mentions, labels, cv=5, scoring='roc_auc'))"
   ]
  },
  {
   "cell_type": "code",
   "execution_count": 31,
   "metadata": {},
   "outputs": [
    {
     "data": {
      "text/plain": [
       "0.85110726861167"
      ]
     },
     "execution_count": 31,
     "metadata": {},
     "output_type": "execute_result"
    }
   ],
   "source": [
    "cv_score"
   ]
  },
  {
   "cell_type": "code",
   "execution_count": 32,
   "metadata": {},
   "outputs": [
    {
     "data": {
      "text/plain": [
       "Pipeline(memory=None,\n",
       "         steps=[('tfidfvectorizer',\n",
       "                 TfidfVectorizer(analyzer='word', binary=False,\n",
       "                                 decode_error='strict',\n",
       "                                 dtype=<class 'numpy.float64'>,\n",
       "                                 encoding='utf-8', input='content',\n",
       "                                 lowercase=True, max_df=1.0, max_features=None,\n",
       "                                 min_df=1, ngram_range=(1, 1), norm='l2',\n",
       "                                 preprocessor=None, smooth_idf=True,\n",
       "                                 stop_words=None, strip_accents=None,\n",
       "                                 sublinear_tf=False,\n",
       "                                 token...\n",
       "                                 tokenizer=None, use_idf=True,\n",
       "                                 vocabulary=None)),\n",
       "                ('standardscaler',\n",
       "                 StandardScaler(copy=True, with_mean=False, with_std=True)),\n",
       "                ('svc',\n",
       "                 SVC(C=1.0, break_ties=False, cache_size=200, class_weight=None,\n",
       "                     coef0=0.0, decision_function_shape='ovr', degree=3,\n",
       "                     gamma='scale', kernel='rbf', max_iter=-1,\n",
       "                     probability=False, random_state=None, shrinking=True,\n",
       "                     tol=0.001, verbose=False))],\n",
       "         verbose=False)"
      ]
     },
     "execution_count": 32,
     "metadata": {},
     "output_type": "execute_result"
    }
   ],
   "source": [
    "clf.fit(mentions, labels)"
   ]
  },
  {
   "cell_type": "code",
   "execution_count": 33,
   "metadata": {},
   "outputs": [
    {
     "data": {
      "text/plain": [
       "0.9702823179791976"
      ]
     },
     "execution_count": 33,
     "metadata": {},
     "output_type": "execute_result"
    }
   ],
   "source": [
    "clf.score(mentions, labels)"
   ]
  },
  {
   "cell_type": "code",
   "execution_count": 34,
   "metadata": {},
   "outputs": [
    {
     "data": {
      "text/plain": [
       "['svm_nhakhoa.joblib']"
      ]
     },
     "execution_count": 34,
     "metadata": {},
     "output_type": "execute_result"
    }
   ],
   "source": [
    "joblib.dump(clf, \"svm_nhakhoa.joblib\")"
   ]
  },
  {
   "cell_type": "code",
   "execution_count": null,
   "metadata": {},
   "outputs": [],
   "source": [
    "cls = load(open('svm_nhakhoa.pkl', 'rb'))"
   ]
  },
  {
   "cell_type": "code",
   "execution_count": null,
   "metadata": {},
   "outputs": [],
   "source": [
    "test = filtered_spam[filtered_spam[\"Label\"] == '-']"
   ]
  },
  {
   "cell_type": "code",
   "execution_count": null,
   "metadata": {},
   "outputs": [],
   "source": [
    "x_test = test['New Sentence'].to_numpy()"
   ]
  },
  {
   "cell_type": "code",
   "execution_count": null,
   "metadata": {},
   "outputs": [],
   "source": [
    "y_test = cls.predict(x_test)"
   ]
  },
  {
   "cell_type": "code",
   "execution_count": null,
   "metadata": {},
   "outputs": [],
   "source": [
    "x_test[:10]"
   ]
  },
  {
   "cell_type": "code",
   "execution_count": null,
   "metadata": {},
   "outputs": [],
   "source": [
    "y_test[:10]"
   ]
  },
  {
   "cell_type": "code",
   "execution_count": null,
   "metadata": {},
   "outputs": [],
   "source": [
    "result = pd.DataFrame({'Mention': x_test, 'Predict': y_test})"
   ]
  },
  {
   "cell_type": "code",
   "execution_count": null,
   "metadata": {},
   "outputs": [],
   "source": [
    "result.to_excel('result.xlsx')"
   ]
  },
  {
   "cell_type": "code",
   "execution_count": null,
   "metadata": {},
   "outputs": [],
   "source": []
  }
 ],
 "metadata": {
  "kernelspec": {
   "display_name": "conda_python3",
   "language": "python",
   "name": "conda_python3"
  },
  "language_info": {
   "codemirror_mode": {
    "name": "ipython",
    "version": 3
   },
   "file_extension": ".py",
   "mimetype": "text/x-python",
   "name": "python",
   "nbconvert_exporter": "python",
   "pygments_lexer": "ipython3",
   "version": "3.6.10"
  }
 },
 "nbformat": 4,
 "nbformat_minor": 4
}
